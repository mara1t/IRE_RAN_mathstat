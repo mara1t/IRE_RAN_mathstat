{
 "cells": [
  {
   "cell_type": "markdown",
   "metadata": {},
   "source": [
    "<center>\n",
    "<img src=\"logo.png\" height=\"900\"> \n",
    "</center>\n",
    "\n",
    "\n",
    "# Модель с нулевым раздутием (Zero inflated model)\n",
    "\n",
    "__Это задание является бонусным.__ Вы можете его не решать, это никак не повлияет на оценку за курс. \n",
    "\n",
    "Метод максимального правдоподобия позволяет нам оценивать не только классические модели вроде линейной или логистической регрессии. Он позволяет нам специфицировать произвольную модель, которая на наш взгляд подходит для данных. Именно такую модель в этом, бонусном, упражнении мы с вами и оценим."
   ]
  },
  {
   "cell_type": "code",
   "execution_count": 1,
   "metadata": {},
   "outputs": [],
   "source": [
    "import numpy as np\n",
    "import pandas as pd\n",
    "\n",
    "from scipy import stats\n",
    "from scipy.optimize import minimize\n",
    "\n",
    "import seaborn as sns\n",
    "import matplotlib.pyplot as plt\n",
    "\n",
    "plt.style.use('ggplot')\n",
    "%matplotlib inline"
   ]
  },
  {
   "cell_type": "markdown",
   "metadata": {},
   "source": [
    "Иногда так бывает, что в той переменной, которую мы собираемся прогнозировать, встречается очень много нулей. Представим себе, что биологи хотят смоделировать, сколько рыбы ловят отдахающие в национальном парке, когда выезжают туда с палатками. Понятное дело, что подавляющее большинство не будет ловить рыбу. Из-за этого в данных будет довольно много нулей. "
   ]
  },
  {
   "cell_type": "markdown",
   "metadata": {},
   "source": [
    "## Описание данных \n",
    "\n",
    "В парке отдыхало $250$ групп туристов. Каждой группе был задан вопрос о том, сколько рыбы они поймали `count`. В каждой группе посчитали число детей `child`, число людей `persons`. Каждой группе отдыхающих задавали вопрос: приехали ли они с палатками `camper`. \n",
    "\n",
    "Колонки с координатами и информацией о ловле на живца нас интересовать не будут. Их мы удалим. "
   ]
  },
  {
   "cell_type": "code",
   "execution_count": 2,
   "metadata": {},
   "outputs": [
    {
     "data": {
      "text/html": [
       "<div>\n",
       "<style scoped>\n",
       "    .dataframe tbody tr th:only-of-type {\n",
       "        vertical-align: middle;\n",
       "    }\n",
       "\n",
       "    .dataframe tbody tr th {\n",
       "        vertical-align: top;\n",
       "    }\n",
       "\n",
       "    .dataframe thead th {\n",
       "        text-align: right;\n",
       "    }\n",
       "</style>\n",
       "<table border=\"1\" class=\"dataframe\">\n",
       "  <thead>\n",
       "    <tr style=\"text-align: right;\">\n",
       "      <th></th>\n",
       "      <th>nofish</th>\n",
       "      <th>camper</th>\n",
       "      <th>persons</th>\n",
       "      <th>child</th>\n",
       "      <th>count</th>\n",
       "    </tr>\n",
       "  </thead>\n",
       "  <tbody>\n",
       "    <tr>\n",
       "      <th>0</th>\n",
       "      <td>1</td>\n",
       "      <td>0</td>\n",
       "      <td>1</td>\n",
       "      <td>0</td>\n",
       "      <td>0</td>\n",
       "    </tr>\n",
       "    <tr>\n",
       "      <th>1</th>\n",
       "      <td>0</td>\n",
       "      <td>1</td>\n",
       "      <td>1</td>\n",
       "      <td>0</td>\n",
       "      <td>0</td>\n",
       "    </tr>\n",
       "    <tr>\n",
       "      <th>2</th>\n",
       "      <td>0</td>\n",
       "      <td>0</td>\n",
       "      <td>1</td>\n",
       "      <td>0</td>\n",
       "      <td>0</td>\n",
       "    </tr>\n",
       "    <tr>\n",
       "      <th>3</th>\n",
       "      <td>0</td>\n",
       "      <td>1</td>\n",
       "      <td>2</td>\n",
       "      <td>1</td>\n",
       "      <td>0</td>\n",
       "    </tr>\n",
       "    <tr>\n",
       "      <th>4</th>\n",
       "      <td>0</td>\n",
       "      <td>0</td>\n",
       "      <td>1</td>\n",
       "      <td>0</td>\n",
       "      <td>1</td>\n",
       "    </tr>\n",
       "  </tbody>\n",
       "</table>\n",
       "</div>"
      ],
      "text/plain": [
       "   nofish  camper  persons  child  count\n",
       "0       1       0        1      0      0\n",
       "1       0       1        1      0      0\n",
       "2       0       0        1      0      0\n",
       "3       0       1        2      1      0\n",
       "4       0       0        1      0      1"
      ]
     },
     "execution_count": 2,
     "metadata": {},
     "output_type": "execute_result"
    }
   ],
   "source": [
    "df = pd.read_csv(\"fish.tsv\", sep='\\t')\n",
    "df.drop(['xb', 'zg', 'livebait'], axis=1, inplace=True)\n",
    "df.head()"
   ]
  },
  {
   "cell_type": "code",
   "execution_count": 3,
   "metadata": {},
   "outputs": [
    {
     "data": {
      "image/png": "[encoded data removed]",
      "text/plain": [
       "<Figure size 640x480 with 1 Axes>"
      ]
     },
     "metadata": {},
     "output_type": "display_data"
    }
   ],
   "source": [
    "df['count'].value_counts().sort_index(ascending=True).plot(kind='bar');"
   ]
  },
  {
   "cell_type": "markdown",
   "metadata": {},
   "source": [
    "Видно, что в данных о пойманной рыбе нули встречаются чаще всего. Специфичные данные требуют специфичных моделей. Будем предполагать, что:\n",
    "\n",
    "- Число пойманной рыбы имеет распределение Пуассона \n",
    "- Вероятность того, что группа туристов не поймала ни одной рыбы моделируется отдельно"
   ]
  },
  {
   "cell_type": "markdown",
   "metadata": {},
   "source": [
    "----------------\n",
    "\n",
    "__а)__ Предпримем первую попытку построить [zero inflated model.](https://en.wikipedia.org/wiki/Zero-inflated_model) Этот пункт решён за вас. Разберитесь в том, как именно мы выводим модель.\n",
    "\n",
    "__Цель:__ вытащить нулевое значение и вероятность для него в отдельный параметр. "
   ]
  },
  {
   "cell_type": "markdown",
   "metadata": {},
   "source": [
    "__Делай раз:__  мы хотим, чтобы распределение Пуассона для нас работало, начиная с $X = 1$. В таком случае нам его надо сдвинуть вправо так, чтобы сумма вероятностей по-прежнему оставалась равна единице. Мы знаем, что \n",
    "\n",
    "$$\n",
    "\\sum_{k=0}^{\\infty} P(X = k) = \\sum_{k=0}^{\\infty} \\frac{\\lambda^k e^{-\\lambda}}{k!} = e^{-\\lambda} + \\sum_{k=1}^{\\infty} \\frac{\\lambda^k e^{-\\lambda}}{k!} = 1.\n",
    "$$\n",
    "\n",
    "Если мы решим оставить только сумму, начиная с единицы, получится, что \n",
    "\n",
    "$$\n",
    "\\sum_{k=1}^{\\infty} \\frac{\\lambda^k e^{-\\lambda}}{k!} = 1 - e^{-\\lambda}.\n",
    "$$\n",
    "\n",
    "Чтобы перед нами было полноценное распределение и все вероятности в сумме давали $1$, нам надо поделить сумму слева на $1 - e^{-\\lambda}$. Получается, что для распределения Пуассона, обрезанного со стороны нуля, формула для поиска вероятности выглядить как \n",
    "\n",
    "$$\n",
    "P(X = k \\mid X > 0) = \\frac{1}{1 - e^{-\\lambda}} \\cdot \\frac{\\lambda^k e^{-\\lambda}}{k!}.\n",
    "$$\n",
    "\n",
    "Можно получить эту формулу исходя не из интуции, а из формулы условной вероятности:\n",
    "\n",
    "$$\n",
    "P(X = k \\mid X > 0) = \\frac{P(X = k \\cap X > 0)}{P(X > 0)} = \\frac{\\frac{\\lambda^k e^{-\\lambda}}{k!}}{1 - e^{-\\lambda}}\n",
    "$$\n"
   ]
  },
  {
   "cell_type": "markdown",
   "metadata": {},
   "source": [
    "__Делай два:__ Теперь давайте построим смесь из двух распределений. Случайная величина $X$ будет принимать с вероятностью $p$ значение $0$, и с вероятностью $1 - p$ будет распределена по Пуассону со сдвигом: \n",
    "\n",
    "$$\n",
    "\\begin{aligned}\n",
    "& P(X = 0) = p \\\\\n",
    "& P(X = k) = (1 - p) \\cdot \\frac{1}{1 - e^{-\\lambda}} \\cdot \\frac{\\lambda^k e^{-\\lambda}}{k!}.\n",
    "\\end{aligned}\n",
    "$$\n",
    "\n",
    "Построенная модель — это ещё не совсем то, что нам надо. У такой формулировки модели есть минус. Невозможно проверить гипотезу о том, что в нуле нет никаких особенностей. Если $p = 0$, то у нас просто-напросто не бывает нулевых значений, а нам надо при $p=0$ получить обычное распределение Пуассона. "
   ]
  },
  {
   "cell_type": "markdown",
   "metadata": {},
   "source": [
    "__Итоговая модель:__ Хочется, чтобы у нас была возможность протестировать такую гипотезу. Для этого ноль выносится в отдельную категорию не в результате обрезания распределения Пуассона, а немного иначе.  \n",
    "\n",
    "Давайте домножим $P(X = k)$ на $(1-p)$, а потом просто вынесем $(1 - p) \\cdot P(X = 0)$ в отдельное слагаемое. И тогда получится модель: \n",
    "\n",
    "$$\n",
    "\\begin{aligned}\n",
    "& P(X = 0) = p + (1 - p) \\cdot e^{-\\lambda} \\\\\n",
    "& P(X = k) = (1 - p) \\cdot \\frac{\\lambda^k e^{-\\lambda}}{k!}.\n",
    "\\end{aligned}\n",
    "$$ \n",
    "\n",
    "Если $p=0$, то у нас получается распределение Пуассона. У нас возникает возможность проверить гипотезу $H_0$, состояшую в том, что в нуле нет никакого особого значения. Распределение Пуассона оказывается вложено в нашу более сложную модель в лучших традициях частотной статистики. \n",
    "\n",
    "----------------"
   ]
  },
  {
   "cell_type": "markdown",
   "metadata": {},
   "source": [
    "__б)__ Выпишите на бумажке логарифмическую функцию правдоподобия для Zero Inflated Model. Вбейте её в python.\n",
    "\n",
    "__Hint:__ Множителем $\\frac{1}{y_1! \\cdot \\ldots \\cdot y_n!}$ нужно пренебречь. Он не влияет на оптимизацию функции. Очень удобно будет выписать функцию правдоподобия для одного наблюдения, а затем аккуратно усложнять её в следующих пунктах. Векторный `numpy` позволит удобно с ней работать. "
   ]
  },
  {
   "cell_type": "code",
   "execution_count": null,
   "metadata": {
    "deletable": false,
    "nbgrader": {
     "cell_type": "code",
     "checksum": "0b64c9d78d40ded0c9eddf6c1580f675",
     "grade": false,
     "grade_id": "cell-1b31cbaca265f942",
     "locked": false,
     "schema_version": 3,
     "solution": true,
     "task": false
    }
   },
   "outputs": [],
   "source": [
    "from scipy.special import factorial\n",
    "def lnL(theta, data):\n",
    "    \n",
    "    p = np.exp(theta[0]) / (1 + np.exp(theta[0]))  \n",
    "    lam = np.exp(theta[1]) \n",
    "    \n",
    "    y = data['count'].to_numpy()\n",
    "    \n",
    "    log_likelihood_zero = np.log(p + (1 - p) * np.exp(-lam))\n",
    "    \n",
    "    log_likelihood_nonzero = (\n",
    "        np.log(1 - p) + y * np.log(lam) - lam - np.log(factorial(y))\n",
    "    )\n",
    "    \n",
    "    # Общий логарифм правдоподобия\n",
    "    log_likelihood = np.where(\n",
    "        y == 0, \n",
    "        log_likelihood_zero, \n",
    "        log_likelihood_nonzero\n",
    "    )\n",
    "    \n",
    "    return log_likelihood.sum()\n",
    "\n"
   ]
  },
  {
   "cell_type": "code",
   "execution_count": 16,
   "metadata": {},
   "outputs": [
    {
     "data": {
      "text/plain": [
       "-1458.9921824887233"
      ]
     },
     "execution_count": 16,
     "metadata": {},
     "output_type": "execute_result"
    }
   ],
   "source": [
    "lnL([1,1], df)"
   ]
  },
  {
   "cell_type": "code",
   "execution_count": null,
   "metadata": {
    "deletable": false,
    "editable": false,
    "nbgrader": {
     "cell_type": "code",
     "checksum": "270b75ce28eea84c92ac11608acfab05",
     "grade": true,
     "grade_id": "cell-457a5cb4f88033f7",
     "locked": true,
     "points": 1,
     "schema_version": 3,
     "solution": false,
     "task": false
    }
   },
   "outputs": [
    {
     "ename": "AssertionError",
     "evalue": "",
     "output_type": "error",
     "traceback": [
      "\u001b[1;31m---------------------------------------------------------------------------\u001b[0m",
      "\u001b[1;31mAssertionError\u001b[0m                            Traceback (most recent call last)",
      "Cell \u001b[1;32mIn[18], line 3\u001b[0m\n\u001b[0;32m      1\u001b[0m \u001b[38;5;66;03m# Задание бонусное - все тесты открытые :)\u001b[39;00m\n\u001b[1;32m----> 3\u001b[0m \u001b[38;5;28;01massert\u001b[39;00m np\u001b[38;5;241m.\u001b[39mabs(lnL([\u001b[38;5;241m0.2\u001b[39m, \u001b[38;5;241m0.2\u001b[39m], df) \u001b[38;5;241m-\u001b[39m \u001b[38;5;241m107.543\u001b[39m) \u001b[38;5;241m<\u001b[39m \u001b[38;5;241m1e-4\u001b[39m\n\u001b[0;32m      4\u001b[0m \u001b[38;5;28;01massert\u001b[39;00m np\u001b[38;5;241m.\u001b[39mabs(lnL([\u001b[38;5;241m0\u001b[39m, \u001b[38;5;241m0\u001b[39m], df) \u001b[38;5;241m-\u001b[39m \u001b[38;5;241m236.8036\u001b[39m) \u001b[38;5;241m<\u001b[39m \u001b[38;5;241m1e-4\u001b[39m\n\u001b[0;32m      5\u001b[0m \u001b[38;5;28;01massert\u001b[39;00m np\u001b[38;5;241m.\u001b[39mabs(lnL([\u001b[38;5;241m1\u001b[39m,\u001b[38;5;241m1\u001b[39m], df) \u001b[38;5;241m-\u001b[39m \u001b[38;5;241m-\u001b[39m\u001b[38;5;241m347.5161\u001b[39m) \u001b[38;5;241m<\u001b[39m \u001b[38;5;241m1e-4\u001b[39m\n",
      "\u001b[1;31mAssertionError\u001b[0m: "
     ]
    }
   ],
   "source": [
    "\n",
    "\n",
    "assert np.abs(lnL([0.2, 0.2], df) - 107.543) < 1e-4\n",
    "assert np.abs(lnL([0, 0], df) - 236.8036) < 1e-4\n",
    "assert np.abs(lnL([1,1], df) - -347.5161) < 1e-4"
   ]
  },
  {
   "cell_type": "markdown",
   "metadata": {},
   "source": [
    "__в)__ Оцените для случайной величины $Y$ (число пойманной рыбы) параметры $p$ и $\\lambda$ методом максимального правдоподобия. "
   ]
  },
  {
   "cell_type": "code",
   "execution_count": null,
   "metadata": {
    "deletable": false,
    "nbgrader": {
     "cell_type": "code",
     "checksum": "a0f148abbbe92b14100f9f7927d22977",
     "grade": false,
     "grade_id": "cell-5a495c83d7efc0a0",
     "locked": false,
     "schema_version": 3,
     "solution": true,
     "task": false
    }
   },
   "outputs": [
    {
     "name": "stdout",
     "output_type": "stream",
     "text": [
      "Estimated parameters: [  -16.76047335 -1033.10418437]\n",
      "p: 5.260401445076485e-08, lambda: 0.0\n"
     ]
    },
    {
     "name": "stderr",
     "output_type": "stream",
     "text": [
      "C:\\Users\\ziiat\\AppData\\Local\\Temp\\ipykernel_11236\\1546978878.py:14: RuntimeWarning: divide by zero encountered in log\n",
      "  np.log(1 - p) + y * np.log(lam) - lam - np.log(factorial(y))\n",
      "C:\\Users\\ziiat\\AppData\\Local\\Temp\\ipykernel_11236\\1546978878.py:14: RuntimeWarning: invalid value encountered in multiply\n",
      "  np.log(1 - p) + y * np.log(lam) - lam - np.log(factorial(y))\n",
      "C:\\Users\\ziiat\\AppData\\Local\\Packages\\PythonSoftwareFoundation.Python.3.10_qbz5n2kfra8p0\\LocalCache\\local-packages\\Python310\\site-packages\\scipy\\optimize\\_numdiff.py:592: RuntimeWarning: invalid value encountered in subtract\n",
      "  df = fun(x1) - f0\n",
      "C:\\Users\\ziiat\\AppData\\Local\\Temp\\ipykernel_11236\\1546978878.py:14: RuntimeWarning: divide by zero encountered in log\n",
      "  np.log(1 - p) + y * np.log(lam) - lam - np.log(factorial(y))\n",
      "C:\\Users\\ziiat\\AppData\\Local\\Temp\\ipykernel_11236\\1546978878.py:14: RuntimeWarning: invalid value encountered in multiply\n",
      "  np.log(1 - p) + y * np.log(lam) - lam - np.log(factorial(y))\n",
      "C:\\Users\\ziiat\\AppData\\Local\\Temp\\ipykernel_11236\\1546978878.py:14: RuntimeWarning: divide by zero encountered in log\n",
      "  np.log(1 - p) + y * np.log(lam) - lam - np.log(factorial(y))\n",
      "C:\\Users\\ziiat\\AppData\\Local\\Temp\\ipykernel_11236\\1546978878.py:14: RuntimeWarning: invalid value encountered in multiply\n",
      "  np.log(1 - p) + y * np.log(lam) - lam - np.log(factorial(y))\n",
      "C:\\Users\\ziiat\\AppData\\Local\\Packages\\PythonSoftwareFoundation.Python.3.10_qbz5n2kfra8p0\\LocalCache\\local-packages\\Python310\\site-packages\\scipy\\optimize\\_numdiff.py:592: RuntimeWarning: invalid value encountered in subtract\n",
      "  df = fun(x1) - f0\n"
     ]
    }
   ],
   "source": [
    "from scipy.optimize import minimize\n",
    "theta_init = [0, 1]\n",
    "\n",
    "res = minimize(lnL, theta_init, args=(df,))\n",
    "print(\"Estimated parameters:\", res.x)\n",
    "\n",
    "p_hat = np.exp(res.x[0]) / (1 + np.exp(res.x[0]))\n",
    "lambda_hat = np.exp(res.x[1])\n",
    "print(f\"p: {p_hat}, lambda: {lambda_hat}\")"
   ]
  },
  {
   "cell_type": "code",
   "execution_count": 20,
   "metadata": {
    "deletable": false,
    "editable": false,
    "nbgrader": {
     "cell_type": "code",
     "checksum": "ad4bbf539c93288ee339009895f97181",
     "grade": true,
     "grade_id": "cell-d035bec1ce2befbf",
     "locked": true,
     "points": 1,
     "schema_version": 3,
     "solution": false,
     "task": false
    }
   },
   "outputs": [
    {
     "ename": "AssertionError",
     "evalue": "",
     "output_type": "error",
     "traceback": [
      "\u001b[1;31m---------------------------------------------------------------------------\u001b[0m",
      "\u001b[1;31mAssertionError\u001b[0m                            Traceback (most recent call last)",
      "Cell \u001b[1;32mIn[20], line 2\u001b[0m\n\u001b[0;32m      1\u001b[0m \u001b[38;5;66;03m# Задание бонусное - все тесты открытые :)\u001b[39;00m\n\u001b[1;32m----> 2\u001b[0m \u001b[38;5;28;01massert\u001b[39;00m np\u001b[38;5;241m.\u001b[39mabs(res\u001b[38;5;241m.\u001b[39mfun \u001b[38;5;241m+\u001b[39m \u001b[38;5;241m679\u001b[39m) \u001b[38;5;241m<\u001b[39m \u001b[38;5;241m1\u001b[39m\n\u001b[0;32m      3\u001b[0m \u001b[38;5;28;01massert\u001b[39;00m np\u001b[38;5;241m.\u001b[39mabs(res\u001b[38;5;241m.\u001b[39mx[\u001b[38;5;241m0\u001b[39m] \u001b[38;5;241m-\u001b[39m \u001b[38;5;241m0.27\u001b[39m) \u001b[38;5;241m<\u001b[39m \u001b[38;5;241m1e-2\u001b[39m\n\u001b[0;32m      4\u001b[0m \u001b[38;5;28;01massert\u001b[39;00m np\u001b[38;5;241m.\u001b[39mabs(res\u001b[38;5;241m.\u001b[39mx[\u001b[38;5;241m1\u001b[39m] \u001b[38;5;241m-\u001b[39m \u001b[38;5;241m2.03\u001b[39m) \u001b[38;5;241m<\u001b[39m \u001b[38;5;241m1e-2\u001b[39m\n",
      "\u001b[1;31mAssertionError\u001b[0m: "
     ]
    }
   ],
   "source": [
    "# Задание бонусное - все тесты открытые :)\n",
    "assert np.abs(res.fun + 679) < 1\n",
    "assert np.abs(res.x[0] - 0.27) < 1e-2\n",
    "assert np.abs(res.x[1] - 2.03) < 1e-2"
   ]
  },
  {
   "cell_type": "markdown",
   "metadata": {},
   "source": [
    "Сравним получившееся значение $\\hat{p}^{ML}$ с частотой нулей в данных. "
   ]
  },
  {
   "cell_type": "code",
   "execution_count": null,
   "metadata": {},
   "outputs": [],
   "source": [
    "np.mean(df['count'] == 0)"
   ]
  },
  {
   "cell_type": "markdown",
   "metadata": {},
   "source": [
    "Совпало. Мы предположили выше, что $Y=0$ формируются независимо от остальной части, поэтому значение $p$ таким и получилось. Оценка $\\hat{\\lambda}^{ML}$ совпадет со средним, посчитанным по всем $y_i > 0$. "
   ]
  },
  {
   "cell_type": "code",
   "execution_count": null,
   "metadata": {},
   "outputs": [],
   "source": [
    "df['count'][df['count'] > 0].mean()"
   ]
  },
  {
   "cell_type": "markdown",
   "metadata": {},
   "source": [
    "Для такой простой постановки можно решить задачу на листочке. Найдите оценки $\\hat{\\lambda}^{ML}$ и $\\hat{p}^{ML}$ в явном виде."
   ]
  },
  {
   "cell_type": "markdown",
   "metadata": {},
   "source": [
    "__г)__ Проверьте с помощью теста отношения правдоподобий на уровне значимости $1\\%$ гипотезу о том, что $p=0$. Если эта гипотеза не отвергается, то мы зря усложнили наше распределение. "
   ]
  },
  {
   "cell_type": "code",
   "execution_count": null,
   "metadata": {
    "deletable": false,
    "nbgrader": {
     "cell_type": "code",
     "checksum": "7a75aad073acaa51803741a97614eb43",
     "grade": false,
     "grade_id": "cell-73aa89dce2cf71b4",
     "locked": false,
     "schema_version": 3,
     "solution": true,
     "task": false
    }
   },
   "outputs": [],
   "source": [
    "### ╰( ͡° ͜ʖ ͡° )つ▬▬ι═══════  bzzzzzzzzzz\n",
    "# will the code be with you\n",
    "\n",
    "def lnL_R(theta, data):\n",
    "    p = 0\n",
    "    lam = np.exp(theta)\n",
    "    \n",
    "# your code here\n"
   ]
  },
  {
   "cell_type": "code",
   "execution_count": null,
   "metadata": {
    "deletable": false,
    "nbgrader": {
     "cell_type": "code",
     "checksum": "67d10bcfde9c5fa79b54a4cacaf54460",
     "grade": false,
     "grade_id": "cell-56f6c36ab5a329d6",
     "locked": false,
     "schema_version": 3,
     "solution": true,
     "task": false
    }
   },
   "outputs": [],
   "source": [
    "### ╰( ͡° ͜ʖ ͡° )つ▬▬ι═══════  bzzzzzzzzzz\n",
    "# will the code be with you\n",
    "\n",
    "res_R =  ...\n",
    "lnL_un = ...\n",
    "lnL_r =  ...\n",
    "\n",
    "LR_obs = ...\n",
    "LR_cr = ...\n",
    "\n",
    "# your code here\n"
   ]
  },
  {
   "cell_type": "code",
   "execution_count": null,
   "metadata": {
    "deletable": false,
    "editable": false,
    "nbgrader": {
     "cell_type": "code",
     "checksum": "cb705e427912cf1401ef7dea7ef7a852",
     "grade": true,
     "grade_id": "cell-381ffe945d5698f1",
     "locked": true,
     "points": 1,
     "schema_version": 3,
     "solution": false,
     "task": false
    }
   },
   "outputs": [],
   "source": [
    "# Задание бонусное - все тесты открытые :)\n",
    "assert np.abs(lnL_r - -158.79) < 1e-2\n",
    "assert np.abs(lnL_un - -679.48) < 1e-2\n",
    "assert np.abs(LR_obs - 1041.38) < 1e-2\n",
    "assert np.abs(LR_cr - 6.63) < 1e-2"
   ]
  },
  {
   "cell_type": "markdown",
   "metadata": {},
   "source": [
    "__д)__ Поднимаем ставки. До этого мы смотрели на число пойманной рыбы как на отдельную случайную величину, которая ни от чего не зависит. Давайте усложним ситуацию. Пусть интенсивность пойманной рыбы объясняется другими факторами, то есть:\n",
    "\n",
    "$$\n",
    "\\lambda_i =  \\exp(\\beta_0 + \\beta_1 \\cdot child_i + \\beta_2 \\cdot persons_i + \\beta_3 \\cdot camper_i).\n",
    "$$\n",
    "\n",
    "Это звучит логично, если у нас есть палатка, нас в группе много, то и рыбы мы будем ловить много. Экспонента здесь используется, чтобы параметр $\\lambda_i$ всегда был положительным. \n",
    "\n",
    "Выпишите для такой модели логарифмическое правдоподобие, вбейте его в python и оцените параметры $\\beta_0, \\beta_1, \\beta_2, \\beta_3, p$. Удобнее всего будет вбивать его в матричном виде. "
   ]
  },
  {
   "cell_type": "code",
   "execution_count": null,
   "metadata": {
    "deletable": false,
    "nbgrader": {
     "cell_type": "code",
     "checksum": "f02e0324e79bf263d22fe35ce2c4317b",
     "grade": false,
     "grade_id": "cell-63fb51465a224a7d",
     "locked": false,
     "schema_version": 3,
     "solution": true,
     "task": false
    }
   },
   "outputs": [],
   "source": [
    "### ╰( ͡° ͜ʖ ͡° )つ▬▬ι═══════  bzzzzzzzzzz\n",
    "# will the code be with you\n",
    "\n",
    "def lnL(theta, data):\n",
    "    p = np.exp(theta[0])/(1 + np.exp(theta[0]))\n",
    "    b = theta[1:]\n",
    "    \n",
    "# your code here\n"
   ]
  },
  {
   "cell_type": "code",
   "execution_count": null,
   "metadata": {
    "deletable": false,
    "editable": false,
    "nbgrader": {
     "cell_type": "code",
     "checksum": "7d145719813eca9e0c746744d9a0b5e2",
     "grade": true,
     "grade_id": "cell-99b60d545cb87471",
     "locked": true,
     "points": 1,
     "schema_version": 3,
     "solution": false,
     "task": false
    }
   },
   "outputs": [],
   "source": [
    "par = np.hstack((0.5, np.ones(4)))\n",
    "assert np.abs(lnL(par, df) - 27323.49) < 1e-2"
   ]
  },
  {
   "cell_type": "code",
   "execution_count": null,
   "metadata": {},
   "outputs": [],
   "source": [
    "theta_init = np.hstack((0.5, np.ones(4)))\n",
    "res = minimize(lnL, theta_init, args=df)\n",
    "res"
   ]
  },
  {
   "cell_type": "code",
   "execution_count": null,
   "metadata": {
    "deletable": false,
    "editable": false,
    "nbgrader": {
     "cell_type": "code",
     "checksum": "ae0411de658ae60531f2ac04215322db",
     "grade": true,
     "grade_id": "cell-045ba49676aa1bff",
     "locked": true,
     "points": 1,
     "schema_version": 3,
     "solution": false,
     "task": false
    }
   },
   "outputs": [],
   "source": [
    "assert np.abs(res.x[0] - -0.3658) < 1e-4\n",
    "assert np.abs(res.x[-1] - 0.7956) < 1e-4"
   ]
  },
  {
   "cell_type": "markdown",
   "metadata": {},
   "source": [
    "__е)__ Поднимаем ставки ещё выше. Скрестим нашу модель с логистической регрессией. Пусть не только интенсивность пуассоновского потока зависит от других факторов, но и вероятность не поймать ни одной рыбы: \n",
    "\n",
    "\\begin{equation*}\n",
    "\\begin{aligned}\n",
    "& z_i = \\gamma_0 + \\gamma_1 \\cdot child_i + \\gamma_2 \\cdot persons_i + \\gamma_3 \\cdot camper_i \\\\\n",
    "& p_i = P(y_i = 1 \\mid child, persons, camper) = \\frac{1}{1 + \\exp(-z_i)} \\\\\n",
    "\\end{aligned}\n",
    "\\end{equation*}\n",
    "\n",
    "Выпишите для такой модели логарифмическое правдоподобие, вбейте его в python и оцените параметры $\\beta_0, \\beta_1, \\beta_2, \\beta_3, \\gamma_0, \\gamma_1, \\gamma_2, \\gamma_3$."
   ]
  },
  {
   "cell_type": "code",
   "execution_count": null,
   "metadata": {
    "deletable": false,
    "nbgrader": {
     "cell_type": "code",
     "checksum": "488995a7b3fdaaef12eb0387ff2fb8b7",
     "grade": false,
     "grade_id": "cell-b10ef4fd41fdeb70",
     "locked": false,
     "schema_version": 3,
     "solution": true,
     "task": false
    }
   },
   "outputs": [],
   "source": [
    "### ╰( ͡° ͜ʖ ͡° )つ▬▬ι═══════  bzzzzzzzzzz\n",
    "# will the code be with you\n",
    "\n",
    "def lnL(theta, data):\n",
    "    beta = theta[:4]\n",
    "    gamma = theta[4:]\n",
    "    \n",
    "# your code here\n"
   ]
  },
  {
   "cell_type": "code",
   "execution_count": null,
   "metadata": {
    "deletable": false,
    "nbgrader": {
     "cell_type": "code",
     "checksum": "f2f5cf08a47c3991cde120c4e71e19fd",
     "grade": false,
     "grade_id": "cell-300049689cec05b6",
     "locked": false,
     "schema_version": 3,
     "solution": true,
     "task": false
    }
   },
   "outputs": [],
   "source": [
    "### ╰( ͡° ͜ʖ ͡° )つ▬▬ι═══════  bzzzzzzzzzz\n",
    "# will the code be with you\n",
    "theta_init = np.hstack((np.ones(4), np.ones(4)))\n",
    "res = ...\n",
    "\n",
    "# your code here\n"
   ]
  },
  {
   "cell_type": "code",
   "execution_count": null,
   "metadata": {
    "deletable": false,
    "editable": false,
    "nbgrader": {
     "cell_type": "code",
     "checksum": "48e4f1dcbca47414147154d36a42b76c",
     "grade": true,
     "grade_id": "cell-d8ccb0d15c85c7ef",
     "locked": true,
     "points": 1,
     "schema_version": 3,
     "solution": false,
     "task": false
    }
   },
   "outputs": [],
   "source": [
    "assert np.abs(res.x[0] + 0.7982) < 1e-4\n",
    "assert np.abs(res.x[-1] + 0.8336) < 1e-4"
   ]
  },
  {
   "cell_type": "markdown",
   "metadata": {},
   "source": [
    "__ё)__ Ровно такие же результаты, как в пункте __е)__ можно получить с помощью уже реализованной в рамках пакета `statsmodels` модели. Код для этого написан ниже. "
   ]
  },
  {
   "cell_type": "code",
   "execution_count": null,
   "metadata": {},
   "outputs": [],
   "source": [
    "df['const'] = 1\n",
    "y = df['count'].to_numpy()\n",
    "X = df[['const', 'child', 'persons', 'camper']]"
   ]
  },
  {
   "cell_type": "code",
   "execution_count": null,
   "metadata": {},
   "outputs": [],
   "source": [
    "import statsmodels.api as sm\n",
    "\n",
    "model = sm.ZeroInflatedPoisson(endog=y, exog=X, exog_infl=X, inflation='logit').fit()\n",
    "model.summary()"
   ]
  },
  {
   "cell_type": "markdown",
   "metadata": {},
   "source": [
    "Сравните получившиеся результаты со своими и дайте ответ на следующие вопросы: \n",
    "\n",
    "- Все ли переменные значимы для прогнозирования интенсивности пуассоновского потока и $P(y_i = 0)?$  \n",
    "- Проинтерпретируйте знаки перед коэффициентами, логично ли, что рост `persons` увеличивает интенсивность пуасоновского потока и уменьшает $P(y_i = 0)$? Логичные ли знаки стоит перед переменными `child` и `camper`?"
   ]
  },
  {
   "cell_type": "markdown",
   "metadata": {},
   "source": [
    "Конечно же, с помощью такой модели можно попытаться спрогнозировать сколько рыбы поймает та или иная группа. Для этого надо посчитать все разумные $P(Y = k)$ и выбрать $k$, которое соотвествует максимальной. Более того, можно даже построить предиктивный интервал. Даже можно разбить выборку на тренировочную и тестовую, а дальше воспользоватся подходами из машинного обучения, чтобы сравнить нащу модель с классическими вариантами."
   ]
  },
  {
   "cell_type": "markdown",
   "metadata": {},
   "source": [
    "  "
   ]
  }
 ],
 "metadata": {
  "kernelspec": {
   "display_name": "Python 3",
   "language": "python",
   "name": "python3"
  },
  "language_info": {
   "codemirror_mode": {
    "name": "ipython",
    "version": 3
   },
   "file_extension": ".py",
   "mimetype": "text/x-python",
   "name": "python",
   "nbconvert_exporter": "python",
   "pygments_lexer": "ipython3",
   "version": "3.10.11"
  }
 },
 "nbformat": 4,
 "nbformat_minor": 2
}
